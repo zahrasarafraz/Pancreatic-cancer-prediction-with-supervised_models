{
  "nbformat": 4,
  "nbformat_minor": 0,
  "metadata": {
    "colab": {
      "name": "Supervised model prediction pancreatic cancer.ipynb",
      "provenance": [],
      "collapsed_sections": [],
      "toc_visible": true
    },
    "kernelspec": {
      "name": "python3",
      "display_name": "Python 3"
    },
    "language_info": {
      "name": "python"
    }
  },
  "cells": [
    {
      "cell_type": "markdown",
      "metadata": {
        "id": "tKZ8WX5d1S2X"
      },
      "source": [
        "# Pancreatic cancer is ranked among the most deadliest cancers due to its low 5-year-survival rate and difficulty in successful diagnosis in its early stages in lack of direct characteristic biomarkers. However, methods based on machine learning provide potential means to identify pancreatic cancer using urinary biomarkers. The objective of this  project aims to compare multiple classifier models and determine an optimal model to predict whether patients with unseen urinary biomarkers have pancreatic cancer. Being able to correctly detect pancreatic cancer in early stage promises a new approach in clinical diagnosis, which will certainly assist doctors to produce more accurate results.\n",
        "# data could be found:  https://www.kaggle.com/johnjdavisiv/urinary-biomarkers-for-pancreatic-cancer"
      ]
    },
    {
      "cell_type": "code",
      "metadata": {
        "id": "Cn7Am7cyXqlm"
      },
      "source": [
        "# import necessary libraries\n",
        "import numpy as np\n",
        "import pandas as pd\n",
        "import matplotlib.pyplot as plt\n",
        "import seaborn as sns\n",
        "from sklearn.preprocessing import MinMaxScaler\n",
        "from sklearn.model_selection import train_test_split\n",
        "import math\n"
      ],
      "execution_count": 1,
      "outputs": []
    },
    {
      "cell_type": "markdown",
      "metadata": {
        "id": "dzD5pmLFYu6M"
      },
      "source": [
        "# initial EDA "
      ]
    },
    {
      "cell_type": "code",
      "metadata": {
        "colab": {
          "base_uri": "https://localhost:8080/"
        },
        "id": "TbTO9suiY2Sa",
        "outputId": "09cdb2a7-6e09-424d-ea14-8e897f831550"
      },
      "source": [
        "from google.colab import drive\n",
        "drive.mount('/content/drive')\n",
        "df=pd.read_csv('/content/sample_data/Debernardi et al 2020 data.csv')\n"
      ],
      "execution_count": 3,
      "outputs": [
        {
          "output_type": "stream",
          "text": [
            "Drive already mounted at /content/drive; to attempt to forcibly remount, call drive.mount(\"/content/drive\", force_remount=True).\n"
          ],
          "name": "stdout"
        }
      ]
    },
    {
      "cell_type": "code",
      "metadata": {
        "colab": {
          "base_uri": "https://localhost:8080/",
          "height": 206
        },
        "id": "xecK01fsZVl7",
        "outputId": "4dd6baf8-0a4b-444e-d47a-01f6a053737d"
      },
      "source": [
        "df.head()"
      ],
      "execution_count": 4,
      "outputs": [
        {
          "output_type": "execute_result",
          "data": {
            "text/html": [
              "<div>\n",
              "<style scoped>\n",
              "    .dataframe tbody tr th:only-of-type {\n",
              "        vertical-align: middle;\n",
              "    }\n",
              "\n",
              "    .dataframe tbody tr th {\n",
              "        vertical-align: top;\n",
              "    }\n",
              "\n",
              "    .dataframe thead th {\n",
              "        text-align: right;\n",
              "    }\n",
              "</style>\n",
              "<table border=\"1\" class=\"dataframe\">\n",
              "  <thead>\n",
              "    <tr style=\"text-align: right;\">\n",
              "      <th></th>\n",
              "      <th>sample_id</th>\n",
              "      <th>patient_cohort</th>\n",
              "      <th>sample_origin</th>\n",
              "      <th>age</th>\n",
              "      <th>sex</th>\n",
              "      <th>diagnosis</th>\n",
              "      <th>stage</th>\n",
              "      <th>benign_sample_diagnosis</th>\n",
              "      <th>plasma_CA19_9</th>\n",
              "      <th>creatinine</th>\n",
              "      <th>LYVE1</th>\n",
              "      <th>REG1B</th>\n",
              "      <th>TFF1</th>\n",
              "      <th>REG1A</th>\n",
              "    </tr>\n",
              "  </thead>\n",
              "  <tbody>\n",
              "    <tr>\n",
              "      <th>0</th>\n",
              "      <td>S1</td>\n",
              "      <td>Cohort1</td>\n",
              "      <td>BPTB</td>\n",
              "      <td>33</td>\n",
              "      <td>F</td>\n",
              "      <td>1</td>\n",
              "      <td>NaN</td>\n",
              "      <td>NaN</td>\n",
              "      <td>11.7</td>\n",
              "      <td>1.83222</td>\n",
              "      <td>0.893219</td>\n",
              "      <td>52.94884</td>\n",
              "      <td>654.282174</td>\n",
              "      <td>1262.000</td>\n",
              "    </tr>\n",
              "    <tr>\n",
              "      <th>1</th>\n",
              "      <td>S10</td>\n",
              "      <td>Cohort1</td>\n",
              "      <td>BPTB</td>\n",
              "      <td>81</td>\n",
              "      <td>F</td>\n",
              "      <td>1</td>\n",
              "      <td>NaN</td>\n",
              "      <td>NaN</td>\n",
              "      <td>NaN</td>\n",
              "      <td>0.97266</td>\n",
              "      <td>2.037585</td>\n",
              "      <td>94.46703</td>\n",
              "      <td>209.488250</td>\n",
              "      <td>228.407</td>\n",
              "    </tr>\n",
              "    <tr>\n",
              "      <th>2</th>\n",
              "      <td>S100</td>\n",
              "      <td>Cohort2</td>\n",
              "      <td>BPTB</td>\n",
              "      <td>51</td>\n",
              "      <td>M</td>\n",
              "      <td>1</td>\n",
              "      <td>NaN</td>\n",
              "      <td>NaN</td>\n",
              "      <td>7.0</td>\n",
              "      <td>0.78039</td>\n",
              "      <td>0.145589</td>\n",
              "      <td>102.36600</td>\n",
              "      <td>461.141000</td>\n",
              "      <td>NaN</td>\n",
              "    </tr>\n",
              "    <tr>\n",
              "      <th>3</th>\n",
              "      <td>S101</td>\n",
              "      <td>Cohort2</td>\n",
              "      <td>BPTB</td>\n",
              "      <td>61</td>\n",
              "      <td>M</td>\n",
              "      <td>1</td>\n",
              "      <td>NaN</td>\n",
              "      <td>NaN</td>\n",
              "      <td>8.0</td>\n",
              "      <td>0.70122</td>\n",
              "      <td>0.002805</td>\n",
              "      <td>60.57900</td>\n",
              "      <td>142.950000</td>\n",
              "      <td>NaN</td>\n",
              "    </tr>\n",
              "    <tr>\n",
              "      <th>4</th>\n",
              "      <td>S102</td>\n",
              "      <td>Cohort2</td>\n",
              "      <td>BPTB</td>\n",
              "      <td>62</td>\n",
              "      <td>M</td>\n",
              "      <td>1</td>\n",
              "      <td>NaN</td>\n",
              "      <td>NaN</td>\n",
              "      <td>9.0</td>\n",
              "      <td>0.21489</td>\n",
              "      <td>0.000860</td>\n",
              "      <td>65.54000</td>\n",
              "      <td>41.088000</td>\n",
              "      <td>NaN</td>\n",
              "    </tr>\n",
              "  </tbody>\n",
              "</table>\n",
              "</div>"
            ],
            "text/plain": [
              "  sample_id patient_cohort sample_origin  ...      REG1B        TFF1     REG1A\n",
              "0        S1        Cohort1          BPTB  ...   52.94884  654.282174  1262.000\n",
              "1       S10        Cohort1          BPTB  ...   94.46703  209.488250   228.407\n",
              "2      S100        Cohort2          BPTB  ...  102.36600  461.141000       NaN\n",
              "3      S101        Cohort2          BPTB  ...   60.57900  142.950000       NaN\n",
              "4      S102        Cohort2          BPTB  ...   65.54000   41.088000       NaN\n",
              "\n",
              "[5 rows x 14 columns]"
            ]
          },
          "metadata": {
            "tags": []
          },
          "execution_count": 4
        }
      ]
    },
    {
      "cell_type": "code",
      "metadata": {
        "colab": {
          "base_uri": "https://localhost:8080/",
          "height": 206
        },
        "id": "1aMTyXJoalcT",
        "outputId": "191cfc1f-b567-4dec-ae31-72eab5f1c26a"
      },
      "source": [
        "df=df.drop(columns=['sample_id','patient_cohort','sample_origin','stage','benign_sample_diagnosis'])\n",
        "df.head()"
      ],
      "execution_count": 5,
      "outputs": [
        {
          "output_type": "execute_result",
          "data": {
            "text/html": [
              "<div>\n",
              "<style scoped>\n",
              "    .dataframe tbody tr th:only-of-type {\n",
              "        vertical-align: middle;\n",
              "    }\n",
              "\n",
              "    .dataframe tbody tr th {\n",
              "        vertical-align: top;\n",
              "    }\n",
              "\n",
              "    .dataframe thead th {\n",
              "        text-align: right;\n",
              "    }\n",
              "</style>\n",
              "<table border=\"1\" class=\"dataframe\">\n",
              "  <thead>\n",
              "    <tr style=\"text-align: right;\">\n",
              "      <th></th>\n",
              "      <th>age</th>\n",
              "      <th>sex</th>\n",
              "      <th>diagnosis</th>\n",
              "      <th>plasma_CA19_9</th>\n",
              "      <th>creatinine</th>\n",
              "      <th>LYVE1</th>\n",
              "      <th>REG1B</th>\n",
              "      <th>TFF1</th>\n",
              "      <th>REG1A</th>\n",
              "    </tr>\n",
              "  </thead>\n",
              "  <tbody>\n",
              "    <tr>\n",
              "      <th>0</th>\n",
              "      <td>33</td>\n",
              "      <td>F</td>\n",
              "      <td>1</td>\n",
              "      <td>11.7</td>\n",
              "      <td>1.83222</td>\n",
              "      <td>0.893219</td>\n",
              "      <td>52.94884</td>\n",
              "      <td>654.282174</td>\n",
              "      <td>1262.000</td>\n",
              "    </tr>\n",
              "    <tr>\n",
              "      <th>1</th>\n",
              "      <td>81</td>\n",
              "      <td>F</td>\n",
              "      <td>1</td>\n",
              "      <td>NaN</td>\n",
              "      <td>0.97266</td>\n",
              "      <td>2.037585</td>\n",
              "      <td>94.46703</td>\n",
              "      <td>209.488250</td>\n",
              "      <td>228.407</td>\n",
              "    </tr>\n",
              "    <tr>\n",
              "      <th>2</th>\n",
              "      <td>51</td>\n",
              "      <td>M</td>\n",
              "      <td>1</td>\n",
              "      <td>7.0</td>\n",
              "      <td>0.78039</td>\n",
              "      <td>0.145589</td>\n",
              "      <td>102.36600</td>\n",
              "      <td>461.141000</td>\n",
              "      <td>NaN</td>\n",
              "    </tr>\n",
              "    <tr>\n",
              "      <th>3</th>\n",
              "      <td>61</td>\n",
              "      <td>M</td>\n",
              "      <td>1</td>\n",
              "      <td>8.0</td>\n",
              "      <td>0.70122</td>\n",
              "      <td>0.002805</td>\n",
              "      <td>60.57900</td>\n",
              "      <td>142.950000</td>\n",
              "      <td>NaN</td>\n",
              "    </tr>\n",
              "    <tr>\n",
              "      <th>4</th>\n",
              "      <td>62</td>\n",
              "      <td>M</td>\n",
              "      <td>1</td>\n",
              "      <td>9.0</td>\n",
              "      <td>0.21489</td>\n",
              "      <td>0.000860</td>\n",
              "      <td>65.54000</td>\n",
              "      <td>41.088000</td>\n",
              "      <td>NaN</td>\n",
              "    </tr>\n",
              "  </tbody>\n",
              "</table>\n",
              "</div>"
            ],
            "text/plain": [
              "   age sex  diagnosis  plasma_CA19_9  ...     LYVE1      REG1B        TFF1     REG1A\n",
              "0   33   F          1           11.7  ...  0.893219   52.94884  654.282174  1262.000\n",
              "1   81   F          1            NaN  ...  2.037585   94.46703  209.488250   228.407\n",
              "2   51   M          1            7.0  ...  0.145589  102.36600  461.141000       NaN\n",
              "3   61   M          1            8.0  ...  0.002805   60.57900  142.950000       NaN\n",
              "4   62   M          1            9.0  ...  0.000860   65.54000   41.088000       NaN\n",
              "\n",
              "[5 rows x 9 columns]"
            ]
          },
          "metadata": {
            "tags": []
          },
          "execution_count": 5
        }
      ]
    },
    {
      "cell_type": "code",
      "metadata": {
        "colab": {
          "base_uri": "https://localhost:8080/"
        },
        "id": "Ab36m-SLdz5G",
        "outputId": "c7a99a45-f4a5-49f1-f170-569650981e20"
      },
      "source": [
        "print(df.shape)\n",
        "print(df.info())"
      ],
      "execution_count": 6,
      "outputs": [
        {
          "output_type": "stream",
          "text": [
            "(590, 9)\n",
            "<class 'pandas.core.frame.DataFrame'>\n",
            "RangeIndex: 590 entries, 0 to 589\n",
            "Data columns (total 9 columns):\n",
            " #   Column         Non-Null Count  Dtype  \n",
            "---  ------         --------------  -----  \n",
            " 0   age            590 non-null    int64  \n",
            " 1   sex            590 non-null    object \n",
            " 2   diagnosis      590 non-null    int64  \n",
            " 3   plasma_CA19_9  350 non-null    float64\n",
            " 4   creatinine     590 non-null    float64\n",
            " 5   LYVE1          590 non-null    float64\n",
            " 6   REG1B          590 non-null    float64\n",
            " 7   TFF1           590 non-null    float64\n",
            " 8   REG1A          306 non-null    float64\n",
            "dtypes: float64(6), int64(2), object(1)\n",
            "memory usage: 41.6+ KB\n",
            "None\n"
          ],
          "name": "stdout"
        }
      ]
    },
    {
      "cell_type": "code",
      "metadata": {
        "colab": {
          "base_uri": "https://localhost:8080/",
          "height": 206
        },
        "id": "SuEGT50slOTR",
        "outputId": "99eb43f5-b4bd-49a0-da1f-292c30108a2f"
      },
      "source": [
        "# convert categorical variable to binary values\n",
        "df['is_male']=pd.get_dummies(df[\"sex\"],drop_first=True)\n",
        "df.drop(columns=['sex'], inplace=True)\n",
        "df.head()"
      ],
      "execution_count": 7,
      "outputs": [
        {
          "output_type": "execute_result",
          "data": {
            "text/html": [
              "<div>\n",
              "<style scoped>\n",
              "    .dataframe tbody tr th:only-of-type {\n",
              "        vertical-align: middle;\n",
              "    }\n",
              "\n",
              "    .dataframe tbody tr th {\n",
              "        vertical-align: top;\n",
              "    }\n",
              "\n",
              "    .dataframe thead th {\n",
              "        text-align: right;\n",
              "    }\n",
              "</style>\n",
              "<table border=\"1\" class=\"dataframe\">\n",
              "  <thead>\n",
              "    <tr style=\"text-align: right;\">\n",
              "      <th></th>\n",
              "      <th>age</th>\n",
              "      <th>diagnosis</th>\n",
              "      <th>plasma_CA19_9</th>\n",
              "      <th>creatinine</th>\n",
              "      <th>LYVE1</th>\n",
              "      <th>REG1B</th>\n",
              "      <th>TFF1</th>\n",
              "      <th>REG1A</th>\n",
              "      <th>is_male</th>\n",
              "    </tr>\n",
              "  </thead>\n",
              "  <tbody>\n",
              "    <tr>\n",
              "      <th>0</th>\n",
              "      <td>33</td>\n",
              "      <td>1</td>\n",
              "      <td>11.7</td>\n",
              "      <td>1.83222</td>\n",
              "      <td>0.893219</td>\n",
              "      <td>52.94884</td>\n",
              "      <td>654.282174</td>\n",
              "      <td>1262.000</td>\n",
              "      <td>0</td>\n",
              "    </tr>\n",
              "    <tr>\n",
              "      <th>1</th>\n",
              "      <td>81</td>\n",
              "      <td>1</td>\n",
              "      <td>NaN</td>\n",
              "      <td>0.97266</td>\n",
              "      <td>2.037585</td>\n",
              "      <td>94.46703</td>\n",
              "      <td>209.488250</td>\n",
              "      <td>228.407</td>\n",
              "      <td>0</td>\n",
              "    </tr>\n",
              "    <tr>\n",
              "      <th>2</th>\n",
              "      <td>51</td>\n",
              "      <td>1</td>\n",
              "      <td>7.0</td>\n",
              "      <td>0.78039</td>\n",
              "      <td>0.145589</td>\n",
              "      <td>102.36600</td>\n",
              "      <td>461.141000</td>\n",
              "      <td>NaN</td>\n",
              "      <td>1</td>\n",
              "    </tr>\n",
              "    <tr>\n",
              "      <th>3</th>\n",
              "      <td>61</td>\n",
              "      <td>1</td>\n",
              "      <td>8.0</td>\n",
              "      <td>0.70122</td>\n",
              "      <td>0.002805</td>\n",
              "      <td>60.57900</td>\n",
              "      <td>142.950000</td>\n",
              "      <td>NaN</td>\n",
              "      <td>1</td>\n",
              "    </tr>\n",
              "    <tr>\n",
              "      <th>4</th>\n",
              "      <td>62</td>\n",
              "      <td>1</td>\n",
              "      <td>9.0</td>\n",
              "      <td>0.21489</td>\n",
              "      <td>0.000860</td>\n",
              "      <td>65.54000</td>\n",
              "      <td>41.088000</td>\n",
              "      <td>NaN</td>\n",
              "      <td>1</td>\n",
              "    </tr>\n",
              "  </tbody>\n",
              "</table>\n",
              "</div>"
            ],
            "text/plain": [
              "   age  diagnosis  plasma_CA19_9  ...        TFF1     REG1A  is_male\n",
              "0   33          1           11.7  ...  654.282174  1262.000        0\n",
              "1   81          1            NaN  ...  209.488250   228.407        0\n",
              "2   51          1            7.0  ...  461.141000       NaN        1\n",
              "3   61          1            8.0  ...  142.950000       NaN        1\n",
              "4   62          1            9.0  ...   41.088000       NaN        1\n",
              "\n",
              "[5 rows x 9 columns]"
            ]
          },
          "metadata": {
            "tags": []
          },
          "execution_count": 7
        }
      ]
    },
    {
      "cell_type": "code",
      "metadata": {
        "colab": {
          "base_uri": "https://localhost:8080/"
        },
        "id": "wYmdfQkfmgI4",
        "outputId": "5ef8ecf0-2680-47c6-d2db-7dba2d512cdd"
      },
      "source": [
        "df.isna().sum()"
      ],
      "execution_count": 8,
      "outputs": [
        {
          "output_type": "execute_result",
          "data": {
            "text/plain": [
              "age                0\n",
              "diagnosis          0\n",
              "plasma_CA19_9    240\n",
              "creatinine         0\n",
              "LYVE1              0\n",
              "REG1B              0\n",
              "TFF1               0\n",
              "REG1A            284\n",
              "is_male            0\n",
              "dtype: int64"
            ]
          },
          "metadata": {
            "tags": []
          },
          "execution_count": 8
        }
      ]
    },
    {
      "cell_type": "code",
      "metadata": {
        "colab": {
          "base_uri": "https://localhost:8080/",
          "height": 356
        },
        "id": "LOAa97TrEgOK",
        "outputId": "a7580ddf-060d-4fcd-87c3-5ee40e9ac4ed"
      },
      "source": [
        "# check missinng values\n",
        "sns.heatmap(df.isna() ,cmap='viridis')"
      ],
      "execution_count": 9,
      "outputs": [
        {
          "output_type": "execute_result",
          "data": {
            "text/plain": [
              "<matplotlib.axes._subplots.AxesSubplot at 0x7f8bb3f10850>"
            ]
          },
          "metadata": {
            "tags": []
          },
          "execution_count": 9
        },
        {
          "output_type": "display_data",
          "data": {
            "image/png": "[encoded data removed]",
            "text/plain": [
              "<Figure size 432x288 with 2 Axes>"
            ]
          },
          "metadata": {
            "tags": [],
            "needs_background": "light"
          }
        }
      ]
    },
    {
      "cell_type": "code",
      "metadata": {
        "id": "xUmhpFXJTuCR"
      },
      "source": [
        ""
      ],
      "execution_count": 9,
      "outputs": []
    },
    {
      "cell_type": "markdown",
      "metadata": {
        "id": "1xDrF7d7Tucs"
      },
      "source": [
        "##replacing miss values with mean of records with similar features\n",
        "\n",
        "\n",
        "---\n",
        "\n"
      ]
    },
    {
      "cell_type": "code",
      "metadata": {
        "colab": {
          "base_uri": "https://localhost:8080/",
          "height": 206
        },
        "id": "XrfO9jp-AI7I",
        "outputId": "a2556730-a592-4d22-93ea-e99de6a6a1c3"
      },
      "source": [
        "for i in range(len(df)):\n",
        "  if math.isnan(df.at[i,'REG1A'])or df.at[i,'REG1A']==0:\n",
        "    age=df.at[i,'age']\n",
        "    is_male=df.at[i,'is_male']\n",
        "    diagnosis=df.at[i,'diagnosis']\n",
        "\n",
        "    subset=df.loc[(df['REG1A'].isnull()==False) & (df['age']==age)&(df['diagnosis']==diagnosis)&(df['is_male']==is_male)]\n",
        "    df.at[i,'REG1A']=subset['REG1A'].mean()\n",
        "\n",
        "  if math.isnan(df.at[i,'plasma_CA19_9']):\n",
        "    age=df.at[i,'age']\n",
        "    is_male=df.at[i,'is_male']\n",
        "    diagnosis=df.at[i,'diagnosis']\n",
        "\n",
        "    subset=df.loc[(df['plasma_CA19_9'].isnull()==False) & (df['age']==age)&(df['diagnosis']==diagnosis)&(df['is_male']==is_male)]\n",
        "    df.at[i,'plasma_CA19_9']=subset['plasma_CA19_9'].mean()\n",
        "\n",
        "df.head()\n",
        "\n"
      ],
      "execution_count": 10,
      "outputs": [
        {
          "output_type": "execute_result",
          "data": {
            "text/html": [
              "<div>\n",
              "<style scoped>\n",
              "    .dataframe tbody tr th:only-of-type {\n",
              "        vertical-align: middle;\n",
              "    }\n",
              "\n",
              "    .dataframe tbody tr th {\n",
              "        vertical-align: top;\n",
              "    }\n",
              "\n",
              "    .dataframe thead th {\n",
              "        text-align: right;\n",
              "    }\n",
              "</style>\n",
              "<table border=\"1\" class=\"dataframe\">\n",
              "  <thead>\n",
              "    <tr style=\"text-align: right;\">\n",
              "      <th></th>\n",
              "      <th>age</th>\n",
              "      <th>diagnosis</th>\n",
              "      <th>plasma_CA19_9</th>\n",
              "      <th>creatinine</th>\n",
              "      <th>LYVE1</th>\n",
              "      <th>REG1B</th>\n",
              "      <th>TFF1</th>\n",
              "      <th>REG1A</th>\n",
              "      <th>is_male</th>\n",
              "    </tr>\n",
              "  </thead>\n",
              "  <tbody>\n",
              "    <tr>\n",
              "      <th>0</th>\n",
              "      <td>33</td>\n",
              "      <td>1</td>\n",
              "      <td>11.70000</td>\n",
              "      <td>1.83222</td>\n",
              "      <td>0.893219</td>\n",
              "      <td>52.94884</td>\n",
              "      <td>654.282174</td>\n",
              "      <td>1262.0000</td>\n",
              "      <td>0</td>\n",
              "    </tr>\n",
              "    <tr>\n",
              "      <th>1</th>\n",
              "      <td>81</td>\n",
              "      <td>1</td>\n",
              "      <td>25.38502</td>\n",
              "      <td>0.97266</td>\n",
              "      <td>2.037585</td>\n",
              "      <td>94.46703</td>\n",
              "      <td>209.488250</td>\n",
              "      <td>228.4070</td>\n",
              "      <td>0</td>\n",
              "    </tr>\n",
              "    <tr>\n",
              "      <th>2</th>\n",
              "      <td>51</td>\n",
              "      <td>1</td>\n",
              "      <td>7.00000</td>\n",
              "      <td>0.78039</td>\n",
              "      <td>0.145589</td>\n",
              "      <td>102.36600</td>\n",
              "      <td>461.141000</td>\n",
              "      <td>14.6725</td>\n",
              "      <td>1</td>\n",
              "    </tr>\n",
              "    <tr>\n",
              "      <th>3</th>\n",
              "      <td>61</td>\n",
              "      <td>1</td>\n",
              "      <td>8.00000</td>\n",
              "      <td>0.70122</td>\n",
              "      <td>0.002805</td>\n",
              "      <td>60.57900</td>\n",
              "      <td>142.950000</td>\n",
              "      <td>218.1755</td>\n",
              "      <td>1</td>\n",
              "    </tr>\n",
              "    <tr>\n",
              "      <th>4</th>\n",
              "      <td>62</td>\n",
              "      <td>1</td>\n",
              "      <td>9.00000</td>\n",
              "      <td>0.21489</td>\n",
              "      <td>0.000860</td>\n",
              "      <td>65.54000</td>\n",
              "      <td>41.088000</td>\n",
              "      <td>422.5405</td>\n",
              "      <td>1</td>\n",
              "    </tr>\n",
              "  </tbody>\n",
              "</table>\n",
              "</div>"
            ],
            "text/plain": [
              "   age  diagnosis  plasma_CA19_9  ...        TFF1      REG1A  is_male\n",
              "0   33          1       11.70000  ...  654.282174  1262.0000        0\n",
              "1   81          1       25.38502  ...  209.488250   228.4070        0\n",
              "2   51          1        7.00000  ...  461.141000    14.6725        1\n",
              "3   61          1        8.00000  ...  142.950000   218.1755        1\n",
              "4   62          1        9.00000  ...   41.088000   422.5405        1\n",
              "\n",
              "[5 rows x 9 columns]"
            ]
          },
          "metadata": {
            "tags": []
          },
          "execution_count": 10
        }
      ]
    },
    {
      "cell_type": "code",
      "metadata": {
        "id": "awrnVmkkdfMG"
      },
      "source": [
        "df.dropna(inplace=True)"
      ],
      "execution_count": 11,
      "outputs": []
    },
    {
      "cell_type": "code",
      "metadata": {
        "colab": {
          "base_uri": "https://localhost:8080/",
          "height": 1000
        },
        "id": "8qJlL8UL-nOX",
        "outputId": "2956b400-e529-4198-b43f-3fd029529716"
      },
      "source": [
        "for col in df.columns:\n",
        "  plt.hist(df[col])\n",
        "  plt.title(col)\n",
        "  plt.show()"
      ],
      "execution_count": 12,
      "outputs": [
        {
          "output_type": "display_data",
          "data": {
            "image/png": "[encoded data removed]",
            "text/plain": [
              "<Figure size 432x288 with 1 Axes>"
            ]
          },
          "metadata": {
            "tags": [],
            "needs_background": "light"
          }
        },
        {
          "output_type": "display_data",
          "data": {
            "image/png": "[encoded data removed]",
            "text/plain": [
              "<Figure size 432x288 with 1 Axes>"
            ]
          },
          "metadata": {
            "tags": [],
            "needs_background": "light"
          }
        },
        {
          "output_type": "display_data",
          "data": {
            "image/png": "[encoded data removed]",
            "text/plain": [
              "<Figure size 432x288 with 1 Axes>"
            ]
          },
          "metadata": {
            "tags": [],
            "needs_background": "light"
          }
        },
        {
          "output_type": "display_data",
          "data": {
            "image/png": "[encoded data removed]",
            "text/plain": [
              "<Figure size 432x288 with 1 Axes>"
            ]
          },
          "metadata": {
            "tags": [],
            "needs_background": "light"
          }
        },
        {
          "output_type": "display_data",
          "data": {
            "image/png": "[encoded data removed]",
            "text/plain": [
              "<Figure size 432x288 with 1 Axes>"
            ]
          },
          "metadata": {
            "tags": [],
            "needs_background": "light"
          }
        },
        {
          "output_type": "display_data",
          "data": {
            "image/png": "[encoded data removed]",
            "text/plain": [
              "<Figure size 432x288 with 1 Axes>"
            ]
          },
          "metadata": {
            "tags": [],
            "needs_background": "light"
          }
        },
        {
          "output_type": "display_data",
          "data": {
            "image/png": "[encoded data removed]",
            "text/plain": [
              "<Figure size 432x288 with 1 Axes>"
            ]
          },
          "metadata": {
            "tags": [],
            "needs_background": "light"
          }
        },
        {
          "output_type": "display_data",
          "data": {
            "image/png": "[encoded data removed]",
            "text/plain": [
              "<Figure size 432x288 with 1 Axes>"
            ]
          },
          "metadata": {
            "tags": [],
            "needs_background": "light"
          }
        },
        {
          "output_type": "display_data",
          "data": {
            "image/png": "[encoded data removed]",
            "text/plain": [
              "<Figure size 432x288 with 1 Axes>"
            ]
          },
          "metadata": {
            "tags": [],
            "needs_background": "light"
          }
        }
      ]
    },
    {
      "cell_type": "code",
      "metadata": {
        "id": "3bxL8hB8UEDI"
      },
      "source": [
        "y=df['diagnosis']\n",
        "X=df.drop(columns='diagnosis',axis=1)\n",
        "#Scaler=MinMaxScaler()\n",
        "#X=Scaler.fit_transform(X)\n",
        "X_train, X_test, y_train, y_test = train_test_split(X, y, test_size=0.2, random_state=42)\n"
      ],
      "execution_count": 13,
      "outputs": []
    },
    {
      "cell_type": "markdown",
      "metadata": {
        "id": "2F3QeotfbWsn"
      },
      "source": [
        "# 1. Logistic Regression "
      ]
    },
    {
      "cell_type": "code",
      "metadata": {
        "id": "UKDG8BTcbIHn"
      },
      "source": [
        "from sklearn.linear_model import LogisticRegression\n",
        "from sklearn.metrics import  confusion_matrix,classification_report\n",
        "from sklearn.model_selection import  cross_val_score\n",
        "lr=LogisticRegression(max_iter=10000)\n",
        "lr.fit(X_train,y_train)\n",
        "predictions=lr.predict(X_test)\n",
        " "
      ],
      "execution_count": 14,
      "outputs": []
    },
    {
      "cell_type": "code",
      "metadata": {
        "colab": {
          "base_uri": "https://localhost:8080/",
          "height": 720
        },
        "id": "0DdeBMs5cQKo",
        "outputId": "01d895e5-9365-4c76-9901-751e25214128"
      },
      "source": [
        "from sklearn.metrics import plot_confusion_matrix\n",
        "titles_options = [(\"Confusion matrix, without normalization\", None),\n",
        "                  (\"Normalized confusion matrix\", 'true')]\n",
        "for title, normalize in titles_options:\n",
        "    disp = plot_confusion_matrix(lr, X_test, y_test,\n",
        "                                 cmap=plt.cm.Blues,\n",
        "                                 normalize=normalize)\n",
        "    disp.ax_.set_title(title)\n",
        "\n",
        "    print(title)\n",
        "    print(disp.confusion_matrix)\n",
        "\n",
        "plt.show()"
      ],
      "execution_count": 15,
      "outputs": [
        {
          "output_type": "stream",
          "text": [
            "Confusion matrix, without normalization\n",
            "[[21  7  1]\n",
            " [ 3 16  6]\n",
            " [ 0  1 31]]\n",
            "Normalized confusion matrix\n",
            "[[0.72413793 0.24137931 0.03448276]\n",
            " [0.12       0.64       0.24      ]\n",
            " [0.         0.03125    0.96875   ]]\n"
          ],
          "name": "stdout"
        },
        {
          "output_type": "display_data",
          "data": {
            "image/png": "[encoded data removed]",
            "text/plain": [
              "<Figure size 432x288 with 2 Axes>"
            ]
          },
          "metadata": {
            "tags": [],
            "needs_background": "light"
          }
        },
        {
          "output_type": "display_data",
          "data": {
            "image/png": "[encoded data removed]",
            "text/plain": [
              "<Figure size 432x288 with 2 Axes>"
            ]
          },
          "metadata": {
            "tags": [],
            "needs_background": "light"
          }
        }
      ]
    },
    {
      "cell_type": "code",
      "metadata": {
        "colab": {
          "base_uri": "https://localhost:8080/"
        },
        "id": "F_8cI5pig4Bt",
        "outputId": "c3d57270-b8fa-4edc-9a72-5d57f6582be7"
      },
      "source": [
        "print(classification_report(predictions,y_test))"
      ],
      "execution_count": 16,
      "outputs": [
        {
          "output_type": "stream",
          "text": [
            "              precision    recall  f1-score   support\n",
            "\n",
            "           1       0.72      0.88      0.79        24\n",
            "           2       0.64      0.67      0.65        24\n",
            "           3       0.97      0.82      0.89        38\n",
            "\n",
            "    accuracy                           0.79        86\n",
            "   macro avg       0.78      0.79      0.78        86\n",
            "weighted avg       0.81      0.79      0.79        86\n",
            "\n"
          ],
          "name": "stdout"
        }
      ]
    },
    {
      "cell_type": "code",
      "metadata": {
        "colab": {
          "base_uri": "https://localhost:8080/"
        },
        "id": "kJEh5IUdh5p6",
        "outputId": "e051ee67-bb32-4b96-cbee-ad98c8612e41"
      },
      "source": [
        "# improve results with cross validation\n",
        "lr_cv_scores=cross_val_score(lr,X,y,cv=5)\n",
        "print('Accuracy scores for the 5 folds multinominal LR: ',lr_cv_scores)\n",
        "print('mean of Accuracy scores for the 5 folds multinominal LR= {:.3f}'.format(np.mean(lr_cv_scores)))"
      ],
      "execution_count": 17,
      "outputs": [
        {
          "output_type": "stream",
          "text": [
            "Accuracy scores for the 5 folds multinominal LR:  [0.65116279 0.75581395 0.76744186 0.6744186  0.77647059]\n",
            "mean of Accuracy scores for the 5 folds multinominal LR= 0.725\n"
          ],
          "name": "stdout"
        }
      ]
    },
    {
      "cell_type": "markdown",
      "metadata": {
        "id": "M0D5ePs3mv4_"
      },
      "source": [
        "# 2. Random Forest"
      ]
    },
    {
      "cell_type": "code",
      "metadata": {
        "colab": {
          "base_uri": "https://localhost:8080/"
        },
        "id": "sGGhJDWimzqK",
        "outputId": "af6652e6-7b30-4d1f-d60f-b7a08f644e6d"
      },
      "source": [
        "from sklearn.ensemble import  RandomForestClassifier\n",
        "from sklearn.model_selection import GridSearchCV\n",
        "rfc=RandomForestClassifier()\n",
        "\n",
        "param_grid = {\n",
        "    'n_estimators': [100,200,400,700],\n",
        "    'max_features': ['auto', 'sqrt', 'log2']\n",
        "}\n",
        "CV_rfc = GridSearchCV(estimator=rfc, param_grid=param_grid, cv= 5)\n",
        "CV_rfc.fit(X_train, y_train)\n",
        "CV_rfc.best_estimator_\n",
        "CV_rfc.best_params_"
      ],
      "execution_count": 18,
      "outputs": [
        {
          "output_type": "execute_result",
          "data": {
            "text/plain": [
              "{'max_features': 'sqrt', 'n_estimators': 100}"
            ]
          },
          "metadata": {
            "tags": []
          },
          "execution_count": 18
        }
      ]
    },
    {
      "cell_type": "code",
      "metadata": {
        "id": "sFFYkxjYt0qU"
      },
      "source": [
        "rfc=RandomForestClassifier(n_estimators=700,max_features='log2')\n",
        "rfc.fit(X_train,y_train)\n",
        "prediction_rf=rfc.predict(X_test)"
      ],
      "execution_count": 19,
      "outputs": []
    },
    {
      "cell_type": "code",
      "metadata": {
        "colab": {
          "base_uri": "https://localhost:8080/",
          "height": 904
        },
        "id": "m7nvP9JbyV0B",
        "outputId": "15ec3c9b-8031-4c93-ad46-6088df5ff74b"
      },
      "source": [
        "from sklearn.metrics import plot_confusion_matrix\n",
        "titles_options = [(\"Confusion matrix, without normalization\", None),\n",
        "                  (\"Normalized confusion matrix\", 'true')]\n",
        "for title, normalize in titles_options:\n",
        "    disp = plot_confusion_matrix(rfc, X_test, y_test,\n",
        "                                 cmap=plt.cm.Blues,\n",
        "                                 normalize=normalize)\n",
        "    disp.ax_.set_title(title)\n",
        "\n",
        "    print(title)\n",
        "    print(disp.confusion_matrix)\n",
        "\n",
        "plt.show()\n",
        "print(classification_report(prediction_rf,y_test))"
      ],
      "execution_count": 20,
      "outputs": [
        {
          "output_type": "stream",
          "text": [
            "Confusion matrix, without normalization\n",
            "[[17 12  0]\n",
            " [ 2 17  6]\n",
            " [ 0  1 31]]\n",
            "Normalized confusion matrix\n",
            "[[0.5862069 0.4137931 0.       ]\n",
            " [0.08      0.68      0.24     ]\n",
            " [0.        0.03125   0.96875  ]]\n"
          ],
          "name": "stdout"
        },
        {
          "output_type": "display_data",
          "data": {
            "image/png": "[encoded data removed]",
            "text/plain": [
              "<Figure size 432x288 with 2 Axes>"
            ]
          },
          "metadata": {
            "tags": [],
            "needs_background": "light"
          }
        },
        {
          "output_type": "display_data",
          "data": {
            "image/png": "[encoded data removed]",
            "text/plain": [
              "<Figure size 432x288 with 2 Axes>"
            ]
          },
          "metadata": {
            "tags": [],
            "needs_background": "light"
          }
        },
        {
          "output_type": "stream",
          "text": [
            "              precision    recall  f1-score   support\n",
            "\n",
            "           1       0.59      0.89      0.71        19\n",
            "           2       0.68      0.57      0.62        30\n",
            "           3       0.97      0.84      0.90        37\n",
            "\n",
            "    accuracy                           0.76        86\n",
            "   macro avg       0.74      0.77      0.74        86\n",
            "weighted avg       0.78      0.76      0.76        86\n",
            "\n"
          ],
          "name": "stdout"
        }
      ]
    },
    {
      "cell_type": "code",
      "metadata": {
        "colab": {
          "base_uri": "https://localhost:8080/"
        },
        "id": "wOINPgwI2MyU",
        "outputId": "cd59a406-a87e-4d17-f150-77d37ac6e3d3"
      },
      "source": [
        "# cross validation :\n",
        "rfc_cv=RandomForestClassifier(n_estimators=700,max_features='log2')\n",
        "rfc_cv_score=cross_val_score(rfc_cv,X,y,cv=5)\n",
        "print('Accuracy scores for the 5 folds multinominal LR: ',rfc_cv_score)\n",
        "print('mean of Accuracy scores for the 5 folds multinominal LR= {:.3f}'.format(np.mean(rfc_cv_score)))"
      ],
      "execution_count": 21,
      "outputs": [
        {
          "output_type": "stream",
          "text": [
            "Accuracy scores for the 5 folds multinominal LR:  [0.6744186  0.84883721 0.72093023 0.76744186 0.77647059]\n",
            "mean of Accuracy scores for the 5 folds multinominal LR= 0.758\n"
          ],
          "name": "stdout"
        }
      ]
    },
    {
      "cell_type": "markdown",
      "metadata": {
        "id": "OnmuIkum3tVp"
      },
      "source": [
        "# 3.SVC"
      ]
    },
    {
      "cell_type": "code",
      "metadata": {
        "colab": {
          "base_uri": "https://localhost:8080/"
        },
        "id": "6chKngcF3vpl",
        "outputId": "9cbb134a-87f7-4350-d220-84b0bfe6282e"
      },
      "source": [
        "from sklearn.svm import  SVC\n",
        "svc=SVC( kernel='linear')\n",
        "svc.fit(X_train,y_train)\n",
        "prediction_svc=svc.predict(X_test)\n",
        "print(classification_report(y_test,prediction_svc))"
      ],
      "execution_count": 25,
      "outputs": [
        {
          "output_type": "stream",
          "text": [
            "              precision    recall  f1-score   support\n",
            "\n",
            "           1       0.91      0.72      0.81        29\n",
            "           2       0.68      0.68      0.68        25\n",
            "           3       0.82      0.97      0.89        32\n",
            "\n",
            "    accuracy                           0.80        86\n",
            "   macro avg       0.80      0.79      0.79        86\n",
            "weighted avg       0.81      0.80      0.80        86\n",
            "\n"
          ],
          "name": "stdout"
        }
      ]
    },
    {
      "cell_type": "code",
      "metadata": {
        "colab": {
          "base_uri": "https://localhost:8080/",
          "height": 720
        },
        "id": "SBge3CVrsaIe",
        "outputId": "3da59d20-40df-4f0a-d8f0-60a8abb4334c"
      },
      "source": [
        "from sklearn.metrics import plot_confusion_matrix\n",
        "titles_options = [(\"Confusion matrix, without normalization\", None),\n",
        "                  (\"Normalized confusion matrix\", 'true')]\n",
        "for title, normalize in titles_options:\n",
        "    disp = plot_confusion_matrix(svc, X_test, y_test,\n",
        "                                 cmap=plt.cm.Blues,\n",
        "                                 normalize=normalize)\n",
        "    disp.ax_.set_title(title)\n",
        "\n",
        "    print(title)\n",
        "    print(disp.confusion_matrix)\n",
        "\n",
        "plt.show()"
      ],
      "execution_count": 26,
      "outputs": [
        {
          "output_type": "stream",
          "text": [
            "Confusion matrix, without normalization\n",
            "[[21  7  1]\n",
            " [ 2 17  6]\n",
            " [ 0  1 31]]\n",
            "Normalized confusion matrix\n",
            "[[0.72413793 0.24137931 0.03448276]\n",
            " [0.08       0.68       0.24      ]\n",
            " [0.         0.03125    0.96875   ]]\n"
          ],
          "name": "stdout"
        },
        {
          "output_type": "display_data",
          "data": {
            "image/png": "[encoded data removed]",
            "text/plain": [
              "<Figure size 432x288 with 2 Axes>"
            ]
          },
          "metadata": {
            "tags": [],
            "needs_background": "light"
          }
        },
        {
          "output_type": "display_data",
          "data": {
            "image/png": "[encoded data removed]",
            "text/plain": [
              "<Figure size 432x288 with 2 Axes>"
            ]
          },
          "metadata": {
            "tags": [],
            "needs_background": "light"
          }
        }
      ]
    },
    {
      "cell_type": "code",
      "metadata": {
        "colab": {
          "base_uri": "https://localhost:8080/"
        },
        "id": "NW5cyQNEtkv2",
        "outputId": "597a91ae-7df9-47d2-dca2-1a693d0c8f49"
      },
      "source": [
        "# svc with cross validation \n",
        "\n",
        "svc=SVC(kernel='linear')\n",
        "svc_cv=cross_val_score(svc,X_train,y_train,cv=5)\n",
        "print('Accuracy scores for the 5 folds SVM:',svc_cv)\n",
        "print('Mean cross validation score SVM:{}'.format(np.mean(svc_cv)))"
      ],
      "execution_count": 27,
      "outputs": [
        {
          "output_type": "stream",
          "text": [
            "Accuracy scores for the 5 folds SVM: [0.71014493 0.63768116 0.8115942  0.63235294 0.72058824]\n",
            "Mean cross validation score SVM:0.7024722932651322\n"
          ],
          "name": "stdout"
        }
      ]
    },
    {
      "cell_type": "markdown",
      "metadata": {
        "id": "coZDRH5NyiC1"
      },
      "source": [
        "# 3. KNN"
      ]
    },
    {
      "cell_type": "code",
      "metadata": {
        "colab": {
          "base_uri": "https://localhost:8080/"
        },
        "id": "icAC8p-ayjXS",
        "outputId": "3ba80612-c9fc-4a18-ae76-a9ca8184ffff"
      },
      "source": [
        "from sklearn.neighbors import  KNeighborsClassifier\n",
        "knn=KNeighborsClassifier()\n",
        "param_knn={'n_neighbors':[5,6,7,8,10,12],\n",
        "           'weights':['uniform', 'distance']}\n",
        "knn_cv=GridSearchCV(estimator=knn,param_grid=param_knn,cv=5)\n",
        "knn_cv.fit(X_train,y_train)\n",
        "knn_cv.best_params_\n"
      ],
      "execution_count": 33,
      "outputs": [
        {
          "output_type": "execute_result",
          "data": {
            "text/plain": [
              "{'n_neighbors': 6, 'weights': 'uniform'}"
            ]
          },
          "metadata": {
            "tags": []
          },
          "execution_count": 33
        }
      ]
    },
    {
      "cell_type": "code",
      "metadata": {
        "colab": {
          "base_uri": "https://localhost:8080/"
        },
        "id": "PBWNpsEG0SXz",
        "outputId": "db151978-4cd9-4386-8829-5e4b4ed00c76"
      },
      "source": [
        "knn=KNeighborsClassifier(n_neighbors=6,weights='uniform')\n",
        "knn.fit(X_train,y_train)\n",
        "knn_prediction=knn.predict(X_test)\n",
        "print(classification_report(y_test,knn_prediction))"
      ],
      "execution_count": 34,
      "outputs": [
        {
          "output_type": "stream",
          "text": [
            "              precision    recall  f1-score   support\n",
            "\n",
            "           1       0.77      0.79      0.78        29\n",
            "           2       0.63      0.48      0.55        25\n",
            "           3       0.76      0.88      0.81        32\n",
            "\n",
            "    accuracy                           0.73        86\n",
            "   macro avg       0.72      0.72      0.71        86\n",
            "weighted avg       0.72      0.73      0.72        86\n",
            "\n"
          ],
          "name": "stdout"
        }
      ]
    },
    {
      "cell_type": "code",
      "metadata": {
        "colab": {
          "base_uri": "https://localhost:8080/",
          "height": 720
        },
        "id": "BD_nDPBr01j7",
        "outputId": "89df71ae-e4f5-445a-e005-c1af8ee273b7"
      },
      "source": [
        "from sklearn.metrics import plot_confusion_matrix\n",
        "titles_options = [(\"Confusion matrix, without normalization\", None),\n",
        "                  (\"Normalized confusion matrix\", 'true')]\n",
        "for title, normalize in titles_options:\n",
        "    disp = plot_confusion_matrix(knn, X_test, y_test,\n",
        "                                 cmap=plt.cm.Blues,\n",
        "                                 normalize=normalize)\n",
        "    disp.ax_.set_title(title)\n",
        "\n",
        "    print(title)\n",
        "    print(disp.confusion_matrix)\n",
        "\n",
        "plt.show()"
      ],
      "execution_count": 35,
      "outputs": [
        {
          "output_type": "stream",
          "text": [
            "Confusion matrix, without normalization\n",
            "[[23  4  2]\n",
            " [ 6 12  7]\n",
            " [ 1  3 28]]\n",
            "Normalized confusion matrix\n",
            "[[0.79310345 0.13793103 0.06896552]\n",
            " [0.24       0.48       0.28      ]\n",
            " [0.03125    0.09375    0.875     ]]\n"
          ],
          "name": "stdout"
        },
        {
          "output_type": "display_data",
          "data": {
            "image/png": "[encoded data removed]",
            "text/plain": [
              "<Figure size 432x288 with 2 Axes>"
            ]
          },
          "metadata": {
            "tags": [],
            "needs_background": "light"
          }
        },
        {
          "output_type": "display_data",
          "data": {
            "image/png": "[encoded data removed]",
            "text/plain": [
              "<Figure size 432x288 with 2 Axes>"
            ]
          },
          "metadata": {
            "tags": [],
            "needs_background": "light"
          }
        }
      ]
    },
    {
      "cell_type": "code",
      "metadata": {
        "id": "kVFmDC1X06CD"
      },
      "source": [
        ""
      ],
      "execution_count": null,
      "outputs": []
    }
  ]
}